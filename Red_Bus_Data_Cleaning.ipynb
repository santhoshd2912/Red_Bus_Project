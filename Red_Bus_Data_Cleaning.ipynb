{
 "cells": [
  {
   "cell_type": "code",
   "execution_count": 22,
   "id": "df9452d8-fa7d-41a9-bc91-1b42a86e672f",
   "metadata": {},
   "outputs": [],
   "source": [
    "#importing libraries\n",
    "import pandas as pd\n",
    "import mysql.connector\n",
    "import numpy as np"
   ]
  },
  {
   "cell_type": "code",
   "execution_count": 24,
   "id": "89ce0d94-a6ac-4b17-81d0-2f0e4950d9e7",
   "metadata": {},
   "outputs": [],
   "source": [
    "#Convert CSV in to DataFrame\n",
    "\n",
    "\n",
    "\n",
    "All_bus_details_df=pd.read_csv(\"RED_fullbus_details.csv\")"
   ]
  },
  {
   "cell_type": "code",
   "execution_count": 26,
   "id": "dee33193-4274-471f-988a-b7679a0865b2",
   "metadata": {},
   "outputs": [
    {
     "name": "stdout",
     "output_type": "stream",
     "text": [
      "<class 'pandas.core.frame.DataFrame'>\n",
      "RangeIndex: 1855 entries, 0 to 1854\n",
      "Data columns (total 11 columns):\n",
      " #   Column          Non-Null Count  Dtype \n",
      "---  ------          --------------  ----- \n",
      " 0   bus_name        1708 non-null   object\n",
      " 1   total_duration  1708 non-null   object\n",
      " 2   bus_type        1702 non-null   object\n",
      " 3   start_time      1708 non-null   object\n",
      " 4   end_time        1708 non-null   object\n",
      " 5   rating          1708 non-null   object\n",
      " 6   price           1708 non-null   object\n",
      " 7   seats           1708 non-null   object\n",
      " 8   Route_name      1855 non-null   object\n",
      " 9   Route_link      1855 non-null   object\n",
      " 10  state_name      1855 non-null   object\n",
      "dtypes: object(11)\n",
      "memory usage: 159.5+ KB\n"
     ]
    }
   ],
   "source": [
    "All_bus_details_df.info()"
   ]
  },
  {
   "cell_type": "code",
   "execution_count": 28,
   "id": "413426e7-7567-459d-bc94-0d814b945128",
   "metadata": {},
   "outputs": [
    {
     "data": {
      "text/plain": [
       "0        529\n",
       "1        699\n",
       "2        869\n",
       "3        519\n",
       "4        398\n",
       "        ... \n",
       "1850     550\n",
       "1851     550\n",
       "1852     550\n",
       "1853    1200\n",
       "1854    3500\n",
       "Name: price, Length: 1855, dtype: object"
      ]
     },
     "execution_count": 28,
     "metadata": {},
     "output_type": "execute_result"
    }
   ],
   "source": [
    "#convert price Data into numeric:\n",
    "All_bus_details_df[\"price\"]=All_bus_details_df[\"price\"].astype(str)\n",
    "All_bus_details_df[\"price\"]=All_bus_details_df[\"price\"].str.replace(\"INR\",\"\")\n",
    "All_bus_details_df[\"price\"]=All_bus_details_df[\"price\"].str.strip()\n",
    "All_bus_details_df[\"price\"].fillna(0)"
   ]
  },
  {
   "cell_type": "code",
   "execution_count": 30,
   "id": "2c0b43de-4867-43d5-bc85-b7e3d4db639a",
   "metadata": {},
   "outputs": [
    {
     "data": {
      "text/plain": [
       "0       4.7\n",
       "1       4.6\n",
       "2       4.7\n",
       "3       4.4\n",
       "4       4.6\n",
       "       ... \n",
       "1850    2.0\n",
       "1851    2.0\n",
       "1852    2.0\n",
       "1853    1.0\n",
       "1854      0\n",
       "Name: rating, Length: 1855, dtype: object"
      ]
     },
     "execution_count": 30,
     "metadata": {},
     "output_type": "execute_result"
    }
   ],
   "source": [
    "#clean the Rating coloumn\n",
    "All_bus_details_df[\"rating\"]=All_bus_details_df[\"rating\"].str.replace(\"New\",\"\")\n",
    "All_bus_details_df[\"rating\"]=All_bus_details_df[\"rating\"].astype(str)\n",
    "All_bus_details_df[\"rating\"]=All_bus_details_df[\"rating\"].str.split().str[0]\n",
    "All_bus_details_df[\"rating\"]=All_bus_details_df[\"rating\"].str.strip()\n",
    "All_bus_details_df[\"rating\"].fillna(0)"
   ]
  },
  {
   "cell_type": "code",
   "execution_count": 32,
   "id": "e6734585-2202-47de-9c8a-e103ad22dc08",
   "metadata": {},
   "outputs": [],
   "source": [
    "# Drop rows with NaN values in specified columns\n",
    "All_bus_details_df = All_bus_details_df.dropna(subset=[\"bus_name\", \"total_duration\", \"bus_type\", \"start_time\", \"end_time\", \"rating\", \"price\", \"seats\", \"Route_name\", \"Route_link\", \"state_name\"])\n"
   ]
  },
  {
   "cell_type": "code",
   "execution_count": 34,
   "id": "b9e9e07c-cd45-4f1d-81ca-b92fdd47fdd0",
   "metadata": {},
   "outputs": [
    {
     "name": "stdout",
     "output_type": "stream",
     "text": [
      "<class 'pandas.core.frame.DataFrame'>\n",
      "Index: 1670 entries, 0 to 1853\n",
      "Data columns (total 11 columns):\n",
      " #   Column          Non-Null Count  Dtype \n",
      "---  ------          --------------  ----- \n",
      " 0   bus_name        1670 non-null   object\n",
      " 1   total_duration  1670 non-null   object\n",
      " 2   bus_type        1670 non-null   object\n",
      " 3   start_time      1670 non-null   object\n",
      " 4   end_time        1670 non-null   object\n",
      " 5   rating          1670 non-null   object\n",
      " 6   price           1670 non-null   object\n",
      " 7   seats           1670 non-null   object\n",
      " 8   Route_name      1670 non-null   object\n",
      " 9   Route_link      1670 non-null   object\n",
      " 10  state_name      1670 non-null   object\n",
      "dtypes: object(11)\n",
      "memory usage: 156.6+ KB\n"
     ]
    }
   ],
   "source": [
    "All_bus_details_df.info()"
   ]
  },
  {
   "cell_type": "code",
   "execution_count": 36,
   "id": "30a987cf-6b88-4c0e-a586-28d412b00938",
   "metadata": {},
   "outputs": [
    {
     "data": {
      "text/html": [
       "<div>\n",
       "<style scoped>\n",
       "    .dataframe tbody tr th:only-of-type {\n",
       "        vertical-align: middle;\n",
       "    }\n",
       "\n",
       "    .dataframe tbody tr th {\n",
       "        vertical-align: top;\n",
       "    }\n",
       "\n",
       "    .dataframe thead th {\n",
       "        text-align: right;\n",
       "    }\n",
       "</style>\n",
       "<table border=\"1\" class=\"dataframe\">\n",
       "  <thead>\n",
       "    <tr style=\"text-align: right;\">\n",
       "      <th></th>\n",
       "      <th>bus_name</th>\n",
       "      <th>total_duration</th>\n",
       "      <th>bus_type</th>\n",
       "      <th>start_time</th>\n",
       "      <th>end_time</th>\n",
       "      <th>rating</th>\n",
       "      <th>price</th>\n",
       "      <th>seats</th>\n",
       "      <th>Route_name</th>\n",
       "      <th>Route_link</th>\n",
       "      <th>state_name</th>\n",
       "    </tr>\n",
       "  </thead>\n",
       "  <tbody>\n",
       "    <tr>\n",
       "      <th>0</th>\n",
       "      <td>FRESHBUS</td>\n",
       "      <td>07h 10m</td>\n",
       "      <td>Electric A/C Seater (2+2)</td>\n",
       "      <td>16:00</td>\n",
       "      <td>23:10</td>\n",
       "      <td>4.7</td>\n",
       "      <td>529</td>\n",
       "      <td>34 Seats available</td>\n",
       "      <td>Hyderabad to Vijayawada</td>\n",
       "      <td>https://www.redbus.in/bus-tickets/hyderabad-to...</td>\n",
       "      <td>Andhra Pradesh</td>\n",
       "    </tr>\n",
       "    <tr>\n",
       "      <th>1</th>\n",
       "      <td>GMRK Tours and Travels</td>\n",
       "      <td>05h 40m</td>\n",
       "      <td>Volvo A/C Semi Sleeper (2+2)</td>\n",
       "      <td>23:45</td>\n",
       "      <td>05:25</td>\n",
       "      <td>4.6</td>\n",
       "      <td>699</td>\n",
       "      <td>24 Seats available</td>\n",
       "      <td>Hyderabad to Vijayawada</td>\n",
       "      <td>https://www.redbus.in/bus-tickets/hyderabad-to...</td>\n",
       "      <td>Andhra Pradesh</td>\n",
       "    </tr>\n",
       "    <tr>\n",
       "      <th>2</th>\n",
       "      <td>IntrCity SmartBus</td>\n",
       "      <td>07h 05m</td>\n",
       "      <td>AC Sleeper (2+1)</td>\n",
       "      <td>23:50</td>\n",
       "      <td>06:55</td>\n",
       "      <td>4.7</td>\n",
       "      <td>869</td>\n",
       "      <td>23 Seats available</td>\n",
       "      <td>Hyderabad to Vijayawada</td>\n",
       "      <td>https://www.redbus.in/bus-tickets/hyderabad-to...</td>\n",
       "      <td>Andhra Pradesh</td>\n",
       "    </tr>\n",
       "    <tr>\n",
       "      <th>3</th>\n",
       "      <td>AdIntrCity SmartBus</td>\n",
       "      <td>08h 00m</td>\n",
       "      <td>A/C Seater / Sleeper (2+1)</td>\n",
       "      <td>22:05</td>\n",
       "      <td>06:05</td>\n",
       "      <td>4.4</td>\n",
       "      <td>519</td>\n",
       "      <td>33 Seats available</td>\n",
       "      <td>Hyderabad to Vijayawada</td>\n",
       "      <td>https://www.redbus.in/bus-tickets/hyderabad-to...</td>\n",
       "      <td>Andhra Pradesh</td>\n",
       "    </tr>\n",
       "    <tr>\n",
       "      <th>4</th>\n",
       "      <td>FRESHBUS</td>\n",
       "      <td>06h 35m</td>\n",
       "      <td>Electric A/C Seater (2+2)</td>\n",
       "      <td>11:20</td>\n",
       "      <td>17:55</td>\n",
       "      <td>4.6</td>\n",
       "      <td>398</td>\n",
       "      <td>38 Seats available</td>\n",
       "      <td>Hyderabad to Vijayawada</td>\n",
       "      <td>https://www.redbus.in/bus-tickets/hyderabad-to...</td>\n",
       "      <td>Andhra Pradesh</td>\n",
       "    </tr>\n",
       "  </tbody>\n",
       "</table>\n",
       "</div>"
      ],
      "text/plain": [
       "                 bus_name total_duration                      bus_type  \\\n",
       "0                FRESHBUS        07h 10m     Electric A/C Seater (2+2)   \n",
       "1  GMRK Tours and Travels        05h 40m  Volvo A/C Semi Sleeper (2+2)   \n",
       "2       IntrCity SmartBus        07h 05m              AC Sleeper (2+1)   \n",
       "3     AdIntrCity SmartBus        08h 00m    A/C Seater / Sleeper (2+1)   \n",
       "4                FRESHBUS        06h 35m     Electric A/C Seater (2+2)   \n",
       "\n",
       "  start_time end_time rating price               seats  \\\n",
       "0      16:00    23:10    4.7   529  34 Seats available   \n",
       "1      23:45    05:25    4.6   699  24 Seats available   \n",
       "2      23:50    06:55    4.7   869  23 Seats available   \n",
       "3      22:05    06:05    4.4   519  33 Seats available   \n",
       "4      11:20    17:55    4.6   398  38 Seats available   \n",
       "\n",
       "                Route_name                                         Route_link  \\\n",
       "0  Hyderabad to Vijayawada  https://www.redbus.in/bus-tickets/hyderabad-to...   \n",
       "1  Hyderabad to Vijayawada  https://www.redbus.in/bus-tickets/hyderabad-to...   \n",
       "2  Hyderabad to Vijayawada  https://www.redbus.in/bus-tickets/hyderabad-to...   \n",
       "3  Hyderabad to Vijayawada  https://www.redbus.in/bus-tickets/hyderabad-to...   \n",
       "4  Hyderabad to Vijayawada  https://www.redbus.in/bus-tickets/hyderabad-to...   \n",
       "\n",
       "       state_name  \n",
       "0  Andhra Pradesh  \n",
       "1  Andhra Pradesh  \n",
       "2  Andhra Pradesh  \n",
       "3  Andhra Pradesh  \n",
       "4  Andhra Pradesh  "
      ]
     },
     "execution_count": 36,
     "metadata": {},
     "output_type": "execute_result"
    }
   ],
   "source": [
    "All_bus_details_df.head()\n"
   ]
  },
  {
   "cell_type": "markdown",
   "id": "9e5ec827-5034-4862-bfff-d15fa6b99b30",
   "metadata": {},
   "source": [
    "SQL connection"
   ]
  },
  {
   "cell_type": "code",
   "execution_count": 57,
   "id": "15815abf-33b7-443a-9596-103a8b269311",
   "metadata": {},
   "outputs": [],
   "source": [
    "import mysql.connector\n",
    "\n",
    "#MySQL server \n",
    "connection = mysql.connector.connect(\n",
    "     host=\"localhost\",\n",
    "        user=\"root\",\n",
    "    password=\"saan\",\n",
    "    #database=\"red_bus_project\"\n",
    ")\n",
    "\n",
    "# Create a cursor\n",
    "my_cursor = connection.cursor()\n",
    "\n",
    "# Create the database\n",
    "my_cursor.execute(\"CREATE DATABASE IF NOT EXISTS red_bus_project\")\n",
    "\n",
    "my_cursor.execute(\"USE red_bus_project\")\n",
    "\n",
    "\n"
   ]
  },
  {
   "cell_type": "code",
   "execution_count": 59,
   "id": "b7bacd02-54bb-4b9d-900f-437e00bef9af",
   "metadata": {},
   "outputs": [
    {
     "name": "stdout",
     "output_type": "stream",
     "text": [
      "Table created in Database\n"
     ]
    }
   ],
   "source": [
    "#If Already created Table Deletion\n",
    "my_cursor.execute(\"DROP TABLE IF EXISTS bus_details;\")\n",
    "#Table creation\n",
    "my_cursor.execute('''CREATE TABLE bus_details(\n",
    "                  ID INT AUTO_INCREMENT PRIMARY KEY,\n",
    "                  bus_name VARCHAR(150)  NULL,\n",
    "                  total_duration VARCHAR(150) NOT NULL,\n",
    "                  bus_type\t VARCHAR(150) NOT NULL,\n",
    "                  start_time  VARCHAR(150) NOT NULL,\n",
    "                  end_time\t VARCHAR(150) NOT NULL,\n",
    "                  rating VARCHAR(150) NULL,\n",
    "                  price INT(150) NOT NULL,\n",
    "                  seats VARCHAR(150) NOT NULL,\n",
    "                  Route_name VARCHAR(150) NULL,\n",
    "                  Route_link VARCHAR(150)  NULL,\n",
    "                  state_name VARCHAR(50) NULL\n",
    "                  \n",
    "                  )''')\n",
    "print(\"Table created in Database\")"
   ]
  },
  {
   "cell_type": "code",
   "execution_count": 61,
   "id": "4e476315-8cb6-4ae8-8616-1a44d492a242",
   "metadata": {},
   "outputs": [
    {
     "name": "stdout",
     "output_type": "stream",
     "text": [
      "Bus Details are inserted into the table\n"
     ]
    }
   ],
   "source": [
    "#INSERT BUS DETAILS\n",
    "insert_bus_details='''INSERT INTO bus_details(\n",
    "                      bus_name,\n",
    "                      total_duration,\n",
    "                      bus_type,\n",
    "                      start_time,\n",
    "                      end_time,\n",
    "                      rating,\n",
    "                      price,\n",
    "                      seats,\n",
    "                      Route_name,\n",
    "                      Route_link,\n",
    "                      state_name)\n",
    "                    VALUES(%s,%s,%s,%s,%s,%s,%s,%s,%s,%s,%s)'''\n",
    "\n",
    "\n",
    "details=All_bus_details_df.values.tolist()\n",
    "\n",
    "my_cursor.executemany(insert_bus_details,details)\n",
    "\n",
    "connection.commit()\n",
    "\n",
    "print(\"Bus Details are inserted into the table\")\n",
    "                      \n",
    "                      \n",
    "                      \n",
    "                      \n",
    "                      \n",
    "                      \n",
    "                      "
   ]
  },
  {
   "cell_type": "code",
   "execution_count": 63,
   "id": "35c36e7f-1616-422f-9355-f30a64468ad9",
   "metadata": {},
   "outputs": [
    {
     "name": "stdout",
     "output_type": "stream",
     "text": [
      "bus_name          0\n",
      "total_duration    0\n",
      "bus_type          0\n",
      "start_time        0\n",
      "end_time          0\n",
      "rating            0\n",
      "price             0\n",
      "seats             0\n",
      "Route_name        0\n",
      "Route_link        0\n",
      "dtype: int64\n"
     ]
    }
   ],
   "source": [
    "print(All_bus_details_df[[\"bus_name\",\n",
    "                      \"total_duration\",\n",
    "                      \"bus_type\",\n",
    "                      \"start_time\",\n",
    "                      \"end_time\",\n",
    "                      \"rating\",\n",
    "                      \"price\",\n",
    "                      \"seats\",\n",
    "                      \"Route_name\",\n",
    "                      \"Route_link\"]].isnull().sum())"
   ]
  },
  {
   "cell_type": "code",
   "execution_count": null,
   "id": "1c21db4d-bc77-4fc9-af48-c9c7782ff0d4",
   "metadata": {},
   "outputs": [],
   "source": []
  }
 ],
 "metadata": {
  "kernelspec": {
   "display_name": "Python 3 (ipykernel)",
   "language": "python",
   "name": "python3"
  },
  "language_info": {
   "codemirror_mode": {
    "name": "ipython",
    "version": 3
   },
   "file_extension": ".py",
   "mimetype": "text/x-python",
   "name": "python",
   "nbconvert_exporter": "python",
   "pygments_lexer": "ipython3",
   "version": "3.12.4"
  }
 },
 "nbformat": 4,
 "nbformat_minor": 5
}
